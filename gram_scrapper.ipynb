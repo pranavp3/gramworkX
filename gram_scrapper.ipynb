{
 "cells": [
  {
   "cell_type": "code",
   "execution_count": 249,
   "id": "unavailable-republican",
   "metadata": {},
   "outputs": [],
   "source": [
    "import pandas as pd\n",
    "from selenium import webdriver"
   ]
  },
  {
   "cell_type": "code",
   "execution_count": 271,
   "id": "ordinary-tunisia",
   "metadata": {},
   "outputs": [],
   "source": [
    "import time"
   ]
  },
  {
   "cell_type": "code",
   "execution_count": 250,
   "id": "precise-highway",
   "metadata": {
    "scrolled": true
   },
   "outputs": [],
   "source": [
    "driver= webdriver.Chrome(r'C:\\Users\\prana\\AppData\\Local\\Temp\\Temp1_chromedriver_win32 (1).zip\\chromedriver')"
   ]
  },
  {
   "cell_type": "code",
   "execution_count": 251,
   "id": "least-playing",
   "metadata": {},
   "outputs": [],
   "source": [
    "driver.get('https://agmarknet.gov.in/SearchCmmMkt.aspx?Tx_Commodity=78&Tx_State=KK&Tx_District=0&Tx_Market=0&DateFrom=01-Jan-2015&DateTo=01-Feb-2021&Fr_Date=01-Jan-2015&To_Date=01-Feb-2021&Tx_Trend=0&Tx_CommodityHead=Tomato&Tx_StateHead=Karnataka&Tx_DistrictHead=--Select--&Tx_MarketHead=--Select--')"
   ]
  },
  {
   "cell_type": "code",
   "execution_count": 280,
   "id": "binding-juvenile",
   "metadata": {},
   "outputs": [],
   "source": [
    "DATE=[]\n",
    "DIST=[]\n",
    "COMMODITY=[]\n",
    "VARIETY=[]\n",
    "MARKET=[]\n",
    "PRICE=[]"
   ]
  },
  {
   "cell_type": "code",
   "execution_count": 267,
   "id": "meaning-burlington",
   "metadata": {},
   "outputs": [],
   "source": [
    "def data_scrapper():            \n",
    "    for i in range(50):\n",
    "        span = driver.find_elements_by_xpath('//span[@id= \"cphBody_GridPriceData_LabModalpric_{}\"]'.format(i))\n",
    "        PRICE.append(span[0].text)  \n",
    "                \n",
    "        span = driver.find_elements_by_xpath('//span[@id= \"cphBody_GridPriceData_Labdistrict_name_{}\" ]'.format(i))\n",
    "        DIST.append(span[0].text)\n",
    "    \n",
    "        span = driver.find_elements_by_xpath('//span[@id= \"cphBody_GridPriceData_LabdMarketName_{}\"]'.format(i))\n",
    "        MARKET.append(span[0].text)\n",
    "    \n",
    "        span = driver.find_elements_by_xpath('//span[@id= \"cphBody_GridPriceData_Labcomm_name_{}\"]'.format(i))\n",
    "        COMMODITY.append(span[0].text)\n",
    "    \n",
    "        span = driver.find_elements_by_xpath('//span[@id= \"cphBody_GridPriceData_LabdVariety_{}\"]'.format(i))\n",
    "        VARIETY.append(span[0].text)\n",
    "    \n",
    "        span = driver.find_elements_by_xpath('//span[@id= \"cphBody_GridPriceData_LabReportedDate_{}\"]'.format(i))\n",
    "        DATE.append(span[0].text)       "
   ]
  },
  {
   "cell_type": "code",
   "execution_count": 284,
   "id": "stock-noise",
   "metadata": {
    "scrolled": true
   },
   "outputs": [
    {
     "ename": "IndexError",
     "evalue": "list index out of range",
     "output_type": "error",
     "traceback": [
      "\u001b[1;31m---------------------------------------------------------------------------\u001b[0m",
      "\u001b[1;31mIndexError\u001b[0m                                Traceback (most recent call last)",
      "\u001b[1;32m<ipython-input-284-ca1781603a14>\u001b[0m in \u001b[0;36m<module>\u001b[1;34m\u001b[0m\n\u001b[0;32m      5\u001b[0m     \u001b[0mtime\u001b[0m\u001b[1;33m.\u001b[0m\u001b[0msleep\u001b[0m\u001b[1;33m(\u001b[0m\u001b[1;36m20\u001b[0m\u001b[1;33m)\u001b[0m\u001b[1;33m\u001b[0m\u001b[1;33m\u001b[0m\u001b[0m\n\u001b[0;32m      6\u001b[0m \u001b[1;33m\u001b[0m\u001b[0m\n\u001b[1;32m----> 7\u001b[1;33m     \u001b[0mdata_scrapper\u001b[0m\u001b[1;33m(\u001b[0m\u001b[1;33m)\u001b[0m\u001b[1;33m\u001b[0m\u001b[1;33m\u001b[0m\u001b[0m\n\u001b[0m",
      "\u001b[1;32m<ipython-input-267-f5cd0930d944>\u001b[0m in \u001b[0;36mdata_scrapper\u001b[1;34m()\u001b[0m\n\u001b[0;32m      2\u001b[0m     \u001b[1;32mfor\u001b[0m \u001b[0mi\u001b[0m \u001b[1;32min\u001b[0m \u001b[0mrange\u001b[0m\u001b[1;33m(\u001b[0m\u001b[1;36m50\u001b[0m\u001b[1;33m)\u001b[0m\u001b[1;33m:\u001b[0m\u001b[1;33m\u001b[0m\u001b[1;33m\u001b[0m\u001b[0m\n\u001b[0;32m      3\u001b[0m         \u001b[0mspan\u001b[0m \u001b[1;33m=\u001b[0m \u001b[0mdriver\u001b[0m\u001b[1;33m.\u001b[0m\u001b[0mfind_elements_by_xpath\u001b[0m\u001b[1;33m(\u001b[0m\u001b[1;34m'//span[@id= \"cphBody_GridPriceData_LabModalpric_{}\"]'\u001b[0m\u001b[1;33m.\u001b[0m\u001b[0mformat\u001b[0m\u001b[1;33m(\u001b[0m\u001b[0mi\u001b[0m\u001b[1;33m)\u001b[0m\u001b[1;33m)\u001b[0m\u001b[1;33m\u001b[0m\u001b[1;33m\u001b[0m\u001b[0m\n\u001b[1;32m----> 4\u001b[1;33m         \u001b[0mPRICE\u001b[0m\u001b[1;33m.\u001b[0m\u001b[0mappend\u001b[0m\u001b[1;33m(\u001b[0m\u001b[0mspan\u001b[0m\u001b[1;33m[\u001b[0m\u001b[1;36m0\u001b[0m\u001b[1;33m]\u001b[0m\u001b[1;33m.\u001b[0m\u001b[0mtext\u001b[0m\u001b[1;33m)\u001b[0m\u001b[1;33m\u001b[0m\u001b[1;33m\u001b[0m\u001b[0m\n\u001b[0m\u001b[0;32m      5\u001b[0m \u001b[1;33m\u001b[0m\u001b[0m\n\u001b[0;32m      6\u001b[0m         \u001b[0mspan\u001b[0m \u001b[1;33m=\u001b[0m \u001b[0mdriver\u001b[0m\u001b[1;33m.\u001b[0m\u001b[0mfind_elements_by_xpath\u001b[0m\u001b[1;33m(\u001b[0m\u001b[1;34m'//span[@id= \"cphBody_GridPriceData_Labdistrict_name_{}\" ]'\u001b[0m\u001b[1;33m.\u001b[0m\u001b[0mformat\u001b[0m\u001b[1;33m(\u001b[0m\u001b[0mi\u001b[0m\u001b[1;33m)\u001b[0m\u001b[1;33m)\u001b[0m\u001b[1;33m\u001b[0m\u001b[1;33m\u001b[0m\u001b[0m\n",
      "\u001b[1;31mIndexError\u001b[0m: list index out of range"
     ]
    }
   ],
   "source": [
    "for i in range(709):\n",
    "    button= driver.find_element_by_xpath('//input[@src=\"../images/Next.png\"]')\n",
    "    button.click()    \n",
    "    time.sleep(20)    \n",
    "    data_scrapper()"
   ]
  },
  {
   "cell_type": "code",
   "execution_count": 286,
   "id": "expanded-receiver",
   "metadata": {},
   "outputs": [
    {
     "data": {
      "text/html": [
       "<div>\n",
       "<style scoped>\n",
       "    .dataframe tbody tr th:only-of-type {\n",
       "        vertical-align: middle;\n",
       "    }\n",
       "\n",
       "    .dataframe tbody tr th {\n",
       "        vertical-align: top;\n",
       "    }\n",
       "\n",
       "    .dataframe thead th {\n",
       "        text-align: right;\n",
       "    }\n",
       "</style>\n",
       "<table border=\"1\" class=\"dataframe\">\n",
       "  <thead>\n",
       "    <tr style=\"text-align: right;\">\n",
       "      <th></th>\n",
       "      <th>date</th>\n",
       "      <th>district</th>\n",
       "      <th>market</th>\n",
       "      <th>commodity</th>\n",
       "      <th>variety</th>\n",
       "      <th>price</th>\n",
       "    </tr>\n",
       "  </thead>\n",
       "  <tbody>\n",
       "    <tr>\n",
       "      <th>35939</th>\n",
       "      <td>28 Jan 2015</td>\n",
       "      <td>Udupi</td>\n",
       "      <td>Udupi</td>\n",
       "      <td>Tomato</td>\n",
       "      <td>Tomato</td>\n",
       "      <td>1200</td>\n",
       "    </tr>\n",
       "    <tr>\n",
       "      <th>35940</th>\n",
       "      <td>28 Jan 2015</td>\n",
       "      <td>Udupi</td>\n",
       "      <td>Udupi</td>\n",
       "      <td>Tomato</td>\n",
       "      <td>Tomato</td>\n",
       "      <td>1200</td>\n",
       "    </tr>\n",
       "    <tr>\n",
       "      <th>35941</th>\n",
       "      <td>21 Jan 2015</td>\n",
       "      <td>Udupi</td>\n",
       "      <td>Udupi</td>\n",
       "      <td>Tomato</td>\n",
       "      <td>Tomato</td>\n",
       "      <td>1700</td>\n",
       "    </tr>\n",
       "    <tr>\n",
       "      <th>35942</th>\n",
       "      <td>14 Jan 2015</td>\n",
       "      <td>Udupi</td>\n",
       "      <td>Udupi</td>\n",
       "      <td>Tomato</td>\n",
       "      <td>Tomato</td>\n",
       "      <td>1600</td>\n",
       "    </tr>\n",
       "    <tr>\n",
       "      <th>35943</th>\n",
       "      <td>07 Jan 2015</td>\n",
       "      <td>Udupi</td>\n",
       "      <td>Udupi</td>\n",
       "      <td>Tomato</td>\n",
       "      <td>Tomato</td>\n",
       "      <td>1600</td>\n",
       "    </tr>\n",
       "  </tbody>\n",
       "</table>\n",
       "</div>"
      ],
      "text/plain": [
       "              date district market commodity variety price\n",
       "35939  28 Jan 2015    Udupi  Udupi    Tomato  Tomato  1200\n",
       "35940  28 Jan 2015    Udupi  Udupi    Tomato  Tomato  1200\n",
       "35941  21 Jan 2015    Udupi  Udupi    Tomato  Tomato  1700\n",
       "35942  14 Jan 2015    Udupi  Udupi    Tomato  Tomato  1600\n",
       "35943  07 Jan 2015    Udupi  Udupi    Tomato  Tomato  1600"
      ]
     },
     "execution_count": 286,
     "metadata": {},
     "output_type": "execute_result"
    }
   ],
   "source": [
    "data= pd.DataFrame(data=DATE,columns=['date'])\n",
    "data['district']=pd.Series(DIST)\n",
    "data['market']= pd.Series(MARKET)\n",
    "data['commodity']=pd.Series(COMMODITY)\n",
    "data['variety']= pd.Series(VARIETY)\n",
    "data['price']= pd.Series(PRICE)\n",
    "data.tail()"
   ]
  },
  {
   "cell_type": "code",
   "execution_count": 287,
   "id": "radio-church",
   "metadata": {
    "scrolled": true
   },
   "outputs": [
    {
     "data": {
      "text/plain": [
       "(35944, 6)"
      ]
     },
     "execution_count": 287,
     "metadata": {},
     "output_type": "execute_result"
    }
   ],
   "source": [
    "data.shape"
   ]
  },
  {
   "cell_type": "code",
   "execution_count": 288,
   "id": "linear-database",
   "metadata": {},
   "outputs": [],
   "source": [
    "df= data.copy()"
   ]
  },
  {
   "cell_type": "code",
   "execution_count": 289,
   "id": "based-stamp",
   "metadata": {},
   "outputs": [],
   "source": [
    "df=df.drop_duplicates()"
   ]
  },
  {
   "cell_type": "code",
   "execution_count": 290,
   "id": "prepared-agenda",
   "metadata": {},
   "outputs": [
    {
     "data": {
      "text/plain": [
       "(35437, 6)"
      ]
     },
     "execution_count": 290,
     "metadata": {},
     "output_type": "execute_result"
    }
   ],
   "source": [
    "df.shape"
   ]
  },
  {
   "cell_type": "code",
   "execution_count": 293,
   "id": "distant-strength",
   "metadata": {},
   "outputs": [],
   "source": [
    "df.to_csv('gram_data.csv',index=False)"
   ]
  },
  {
   "cell_type": "code",
   "execution_count": null,
   "id": "alternate-spokesman",
   "metadata": {},
   "outputs": [],
   "source": []
  }
 ],
 "metadata": {
  "kernelspec": {
   "display_name": "Python 3",
   "language": "python",
   "name": "python3"
  },
  "language_info": {
   "codemirror_mode": {
    "name": "ipython",
    "version": 3
   },
   "file_extension": ".py",
   "mimetype": "text/x-python",
   "name": "python",
   "nbconvert_exporter": "python",
   "pygments_lexer": "ipython3",
   "version": "3.8.3"
  }
 },
 "nbformat": 4,
 "nbformat_minor": 5
}
